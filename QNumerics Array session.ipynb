{
 "cells": [
  {
   "cell_type": "markdown",
   "id": "fb045a94",
   "metadata": {},
   "source": [
    "# QNumerics Arrays session\n",
    "\n",
    "This notebook contains examples for the [QNumerics 2024](https://qnumerics.org/) session on arrays."
   ]
  },
  {
   "cell_type": "markdown",
   "id": "0d5ddd8e",
   "metadata": {},
   "source": [
    "## Array basics\n",
    "\n",
    "\n",
    "In this section, we'll look at some basic operations on arrays, including extending and truncating them."
   ]
  },
  {
   "cell_type": "code",
   "execution_count": null,
   "id": "1f7c68b4",
   "metadata": {},
   "outputs": [],
   "source": [
    "a = [1, 2, 3, 4]"
   ]
  },
  {
   "cell_type": "code",
   "execution_count": null,
   "id": "b53b3c3c",
   "metadata": {},
   "outputs": [],
   "source": [
    "push!(a, 5)"
   ]
  },
  {
   "cell_type": "code",
   "execution_count": null,
   "id": "b46e98f4",
   "metadata": {},
   "outputs": [],
   "source": [
    "pushfirst!(a, 0)"
   ]
  },
  {
   "cell_type": "code",
   "execution_count": null,
   "id": "5482bbb4",
   "metadata": {},
   "outputs": [],
   "source": [
    "pop!(a)"
   ]
  },
  {
   "cell_type": "code",
   "execution_count": null,
   "id": "c2676e23",
   "metadata": {},
   "outputs": [],
   "source": [
    "a"
   ]
  },
  {
   "cell_type": "code",
   "execution_count": null,
   "id": "f85f01ee",
   "metadata": {},
   "outputs": [],
   "source": [
    "popfirst!(a)"
   ]
  },
  {
   "cell_type": "code",
   "execution_count": null,
   "id": "29702b8c",
   "metadata": {},
   "outputs": [],
   "source": [
    "a"
   ]
  },
  {
   "cell_type": "code",
   "execution_count": null,
   "id": "43993bc5",
   "metadata": {},
   "outputs": [],
   "source": [
    "b = splice!(a, 2:3)"
   ]
  },
  {
   "cell_type": "code",
   "execution_count": null,
   "id": "afff894c",
   "metadata": {},
   "outputs": [],
   "source": [
    "a"
   ]
  },
  {
   "cell_type": "code",
   "execution_count": null,
   "id": "b81347c5",
   "metadata": {},
   "outputs": [],
   "source": [
    "append!(a, [5, 6, 7]) # how does this differ from push!"
   ]
  },
  {
   "cell_type": "code",
   "execution_count": null,
   "id": "ff74ac34",
   "metadata": {},
   "outputs": [],
   "source": [
    "c = vcat(a, [8, 9, 10])"
   ]
  },
  {
   "cell_type": "code",
   "execution_count": null,
   "id": "dee13ffb",
   "metadata": {},
   "outputs": [],
   "source": [
    "d = hcat(a, rand(1:5, length(a)))"
   ]
  },
  {
   "cell_type": "code",
   "execution_count": null,
   "id": "66e912d2",
   "metadata": {},
   "outputs": [],
   "source": [
    "reverse!(a)"
   ]
  },
  {
   "cell_type": "code",
   "execution_count": null,
   "id": "31c2031b",
   "metadata": {},
   "outputs": [],
   "source": [
    "ndims(d)"
   ]
  },
  {
   "cell_type": "code",
   "execution_count": null,
   "id": "cbcef0a3",
   "metadata": {},
   "outputs": [],
   "source": [
    "size(d)"
   ]
  },
  {
   "cell_type": "code",
   "execution_count": null,
   "id": "5431e1eb",
   "metadata": {},
   "outputs": [],
   "source": [
    "size(d, 2)"
   ]
  },
  {
   "cell_type": "code",
   "execution_count": null,
   "id": "128c0732",
   "metadata": {},
   "outputs": [],
   "source": [
    "e = fill(2, (3, 4, 5))"
   ]
  },
  {
   "cell_type": "code",
   "execution_count": null,
   "id": "708c3eba",
   "metadata": {},
   "outputs": [],
   "source": [
    "f = 1:3:20 # a range -- note the that the step size is the SECOND argument"
   ]
  },
  {
   "cell_type": "code",
   "execution_count": null,
   "id": "7d1b90a4",
   "metadata": {},
   "outputs": [],
   "source": [
    "collect(f)"
   ]
  },
  {
   "cell_type": "markdown",
   "id": "099d9043",
   "metadata": {},
   "source": [
    "## Indexing\n",
    "\n",
    "Now let's look at the various ways we can index arrays. Note the special reserved Julia keyword `end`. Julia arrays support indexing with:\n",
    "  - integers\n",
    "  - ranges\n",
    "  - vectors of integers, vectors of booleans\n",
    "  - and more!"
   ]
  },
  {
   "cell_type": "code",
   "execution_count": null,
   "id": "000aa3e9",
   "metadata": {},
   "outputs": [],
   "source": [
    "a = collect(1:10)"
   ]
  },
  {
   "cell_type": "code",
   "execution_count": null,
   "id": "624a10b2",
   "metadata": {},
   "outputs": [],
   "source": [
    "a[1:2:3]"
   ]
  },
  {
   "cell_type": "code",
   "execution_count": null,
   "id": "4f8afa4e",
   "metadata": {},
   "outputs": [],
   "source": [
    "a[5:end]"
   ]
  },
  {
   "cell_type": "code",
   "execution_count": null,
   "id": "2d335bb1",
   "metadata": {},
   "outputs": [],
   "source": [
    "a[[false, true, false, true, true, false, false, false, false, true]]"
   ]
  },
  {
   "cell_type": "code",
   "execution_count": null,
   "id": "23b14027",
   "metadata": {},
   "outputs": [],
   "source": [
    "a[[1, 2, 7, 3]]"
   ]
  },
  {
   "cell_type": "code",
   "execution_count": null,
   "id": "448e1ad8",
   "metadata": {},
   "outputs": [],
   "source": [
    "a[5] # what happens if you use an Int8(5) as the index?"
   ]
  },
  {
   "cell_type": "code",
   "execution_count": null,
   "id": "0418bc29",
   "metadata": {},
   "outputs": [],
   "source": [
    "b = rand(4, 4)"
   ]
  },
  {
   "cell_type": "code",
   "execution_count": null,
   "id": "57483b54",
   "metadata": {},
   "outputs": [],
   "source": [
    "b[[1, 10, 5, 2]]"
   ]
  },
  {
   "cell_type": "code",
   "execution_count": null,
   "id": "7ac3447f",
   "metadata": {},
   "outputs": [],
   "source": [
    "b[1:3:end]"
   ]
  },
  {
   "cell_type": "code",
   "execution_count": null,
   "id": "932eafff",
   "metadata": {},
   "outputs": [],
   "source": [
    "c = rand(2, 2, 2)"
   ]
  },
  {
   "cell_type": "code",
   "execution_count": null,
   "id": "e85c6ec2",
   "metadata": {},
   "outputs": [],
   "source": [
    "c[1:4:end]"
   ]
  },
  {
   "cell_type": "code",
   "execution_count": null,
   "id": "1e66dac2",
   "metadata": {},
   "outputs": [],
   "source": [
    "b[1, 1]"
   ]
  },
  {
   "cell_type": "code",
   "execution_count": null,
   "id": "f6160f22",
   "metadata": {},
   "outputs": [],
   "source": [
    "b[2:3, 3:4]"
   ]
  },
  {
   "cell_type": "code",
   "execution_count": null,
   "id": "1d1d55ac",
   "metadata": {},
   "outputs": [],
   "source": [
    "c[2, 1, 2]"
   ]
  },
  {
   "cell_type": "code",
   "execution_count": null,
   "id": "c5b4bb39",
   "metadata": {},
   "outputs": [],
   "source": [
    "c[1, :, 2]"
   ]
  },
  {
   "cell_type": "code",
   "execution_count": null,
   "id": "06c45f70",
   "metadata": {},
   "outputs": [],
   "source": [
    "# b[1, 2, 1, 1] # do you think this should work?"
   ]
  },
  {
   "cell_type": "code",
   "execution_count": null,
   "id": "08f02462",
   "metadata": {},
   "outputs": [],
   "source": [
    "collect(eachindex(c))"
   ]
  },
  {
   "cell_type": "code",
   "execution_count": null,
   "id": "d9d7dfa9",
   "metadata": {},
   "outputs": [],
   "source": [
    "collect(CartesianIndices(size(c)))"
   ]
  },
  {
   "cell_type": "markdown",
   "id": "8b83ca68",
   "metadata": {},
   "source": [
    "## Higher dimensional arrays\n",
    "\n",
    "Julia has good support for `N`-dimensional arrays when `N > 2`. This is useful for representing tensors or transforming a vector back and forth to a tensor representation (for `einsum`, for example.)"
   ]
  },
  {
   "cell_type": "code",
   "execution_count": null,
   "id": "ec293665",
   "metadata": {},
   "outputs": [],
   "source": [
    "d = rand(3, 4, 5)"
   ]
  },
  {
   "cell_type": "code",
   "execution_count": null,
   "id": "700f8d1e",
   "metadata": {},
   "outputs": [],
   "source": [
    "permutedims(d, (3, 2, 1))"
   ]
  },
  {
   "cell_type": "code",
   "execution_count": null,
   "id": "5622b051",
   "metadata": {},
   "outputs": [],
   "source": [
    "strides(d)"
   ]
  },
  {
   "cell_type": "code",
   "execution_count": null,
   "id": "8a18530f",
   "metadata": {},
   "outputs": [],
   "source": [
    "mapslices(sum, d; dims=(1, 2))"
   ]
  },
  {
   "cell_type": "code",
   "execution_count": null,
   "id": "2c73b8a4",
   "metadata": {},
   "outputs": [],
   "source": [
    "e = rand(ComplexF64, 5, 5)"
   ]
  },
  {
   "cell_type": "code",
   "execution_count": null,
   "id": "5b3b4882",
   "metadata": {},
   "outputs": [],
   "source": [
    "transpose(e)"
   ]
  },
  {
   "cell_type": "code",
   "execution_count": null,
   "id": "5961331a",
   "metadata": {},
   "outputs": [],
   "source": [
    "adjoint(e)"
   ]
  },
  {
   "cell_type": "markdown",
   "id": "b32fbbad",
   "metadata": {},
   "source": [
    "## Broadcasting 🔈\n",
    "\n",
    "Broadcasting is used to do elementwise operations on Julia arrays, and can help us avoid allocations and write simple, extensible code without 5 nested `for` loops. Let's see it in action."
   ]
  },
  {
   "cell_type": "code",
   "execution_count": null,
   "id": "decb68e3",
   "metadata": {},
   "outputs": [],
   "source": [
    "d = rand(ComplexF64, 3, 3)"
   ]
  },
  {
   "cell_type": "code",
   "execution_count": null,
   "id": "c30b0811",
   "metadata": {},
   "outputs": [],
   "source": [
    "abs2.(d)"
   ]
  },
  {
   "cell_type": "code",
   "execution_count": null,
   "id": "eb8fa889",
   "metadata": {},
   "outputs": [],
   "source": [
    "d = rand(0:10, 3, 3)"
   ]
  },
  {
   "cell_type": "code",
   "execution_count": null,
   "id": "d58a3f21",
   "metadata": {},
   "outputs": [],
   "source": [
    "d .+ 2"
   ]
  },
  {
   "cell_type": "code",
   "execution_count": null,
   "id": "d132ac5c",
   "metadata": {},
   "outputs": [],
   "source": [
    "e = rand(0:10, 10)"
   ]
  },
  {
   "cell_type": "code",
   "execution_count": null,
   "id": "34dad544",
   "metadata": {},
   "outputs": [],
   "source": [
    "e[1:2:end] .-= 3"
   ]
  },
  {
   "cell_type": "markdown",
   "id": "64f321f2",
   "metadata": {},
   "source": [
    "Now we'll compare \"naive\" broadcasting with broadcast fusion using the `@.` operator, which allows us to force all operations on a line to be broadcasted simultaneously and avoids multiple loop executions."
   ]
  },
  {
   "cell_type": "code",
   "execution_count": null,
   "id": "18c0179e",
   "metadata": {},
   "outputs": [],
   "source": [
    "no_fusion(a) = abs2.(a) - 3a + sqrt.(a)"
   ]
  },
  {
   "cell_type": "code",
   "execution_count": null,
   "id": "c50bf955",
   "metadata": {},
   "outputs": [],
   "source": [
    "fusion(a) = @. abs2(a) - 3a + sqrt(a)"
   ]
  },
  {
   "cell_type": "markdown",
   "id": "e09c9598",
   "metadata": {},
   "source": [
    "We invoke each of our new functions once to have Julia and LLVM compile them for the provided types. Then we can do a fair comparison of their runtimes and allocations."
   ]
  },
  {
   "cell_type": "code",
   "execution_count": null,
   "id": "a3cbabfc",
   "metadata": {},
   "outputs": [],
   "source": [
    "fusion([1.1, 2.2]); #compile"
   ]
  },
  {
   "cell_type": "code",
   "execution_count": null,
   "id": "c619b859",
   "metadata": {},
   "outputs": [],
   "source": [
    "no_fusion([1.1, 2.2]); #compile"
   ]
  },
  {
   "cell_type": "markdown",
   "id": "78e861c8",
   "metadata": {},
   "source": [
    "Let's use an input array large enough to see a real difference. We use the `@timev` macro to get more detailed information on what Julia was doing during the code execution -- this is a very useful tool for understanding why code is slow or fast!"
   ]
  },
  {
   "cell_type": "code",
   "execution_count": null,
   "id": "c578a79e",
   "metadata": {},
   "outputs": [],
   "source": [
    "a = rand(Float64, 10^6);"
   ]
  },
  {
   "cell_type": "code",
   "execution_count": null,
   "id": "a1263e2f",
   "metadata": {},
   "outputs": [],
   "source": [
    "@timev no_fusion(a);"
   ]
  },
  {
   "cell_type": "code",
   "execution_count": null,
   "id": "6e6ae2a8",
   "metadata": {},
   "outputs": [],
   "source": [
    "@timev fusion(a);"
   ]
  },
  {
   "cell_type": "markdown",
   "id": "92777681",
   "metadata": {},
   "source": [
    "## Views 👀\n",
    "\n",
    "Julia's views provide a non-allocating window into an array. This lets us perform operations on array slices without thrashing the garbage collector (yay!). Again we'll write a function using views, and one that doesn't use views, and compare them. *Be careful* to use views only when you know you are not mutating the underlying array or if you intend to mutate it!"
   ]
  },
  {
   "cell_type": "code",
   "execution_count": null,
   "id": "24eea16d",
   "metadata": {},
   "outputs": [],
   "source": [
    "a = rand(1:5, 10)"
   ]
  },
  {
   "cell_type": "code",
   "execution_count": null,
   "id": "e74b563c",
   "metadata": {},
   "outputs": [],
   "source": [
    "b = a[1:5]"
   ]
  },
  {
   "cell_type": "code",
   "execution_count": null,
   "id": "20682d13",
   "metadata": {},
   "outputs": [],
   "source": [
    "c = @view a[1:5]"
   ]
  },
  {
   "cell_type": "code",
   "execution_count": null,
   "id": "9cbb30a4",
   "metadata": {},
   "outputs": [],
   "source": [
    "no_views_sum(x) = sum(x[3:end-2])"
   ]
  },
  {
   "cell_type": "code",
   "execution_count": null,
   "id": "3a34de50",
   "metadata": {},
   "outputs": [],
   "source": [
    "@views views_sum(x) = sum(x[3:end-2])"
   ]
  },
  {
   "cell_type": "code",
   "execution_count": null,
   "id": "7d8376f2",
   "metadata": {},
   "outputs": [],
   "source": [
    "views_sum(collect(1:5)); # compile"
   ]
  },
  {
   "cell_type": "code",
   "execution_count": null,
   "id": "be4f005b",
   "metadata": {},
   "outputs": [],
   "source": [
    "no_views_sum(collect(1:5)); # compile"
   ]
  },
  {
   "cell_type": "code",
   "execution_count": null,
   "id": "10e9ded1",
   "metadata": {},
   "outputs": [],
   "source": [
    "a = rand(1:5, 10^6);"
   ]
  },
  {
   "cell_type": "code",
   "execution_count": null,
   "id": "a3b55113",
   "metadata": {},
   "outputs": [],
   "source": [
    "@timev no_views_sum(a);"
   ]
  },
  {
   "cell_type": "code",
   "execution_count": null,
   "id": "ec486446",
   "metadata": {},
   "outputs": [],
   "source": [
    "@timev views_sum(a);"
   ]
  },
  {
   "cell_type": "markdown",
   "id": "ef183b78",
   "metadata": {},
   "source": [
    "## The `LinearAlgebra` standard library\n",
    "\n",
    "Julia also provides a very flexible set of linear algebra routines as part of its standard library. You can load these with `using LinearAlgebra` -- the stdlib comes installed with Julia itself. Under the hood, Julia is using high performance BLAS and LAPACK implementations with quite good generic fallbacks for non-BLAS types. If you have an Intel CPU, you can use Intel MKL if you wish (see the Julia documentation for how to do this). "
   ]
  },
  {
   "cell_type": "code",
   "execution_count": null,
   "id": "b8a8c6e2",
   "metadata": {},
   "outputs": [],
   "source": [
    "using LinearAlgebra"
   ]
  },
  {
   "cell_type": "code",
   "execution_count": null,
   "id": "9e698f7c",
   "metadata": {},
   "outputs": [],
   "source": [
    "A = rand(ComplexF64, 4, 4)"
   ]
  },
  {
   "cell_type": "code",
   "execution_count": null,
   "id": "93fa237d",
   "metadata": {},
   "outputs": [],
   "source": [
    "Ah = A + A' # A + adjoint(A)"
   ]
  },
  {
   "cell_type": "code",
   "execution_count": null,
   "id": "620e4e14",
   "metadata": {},
   "outputs": [],
   "source": [
    "@which eigvals(Ah)"
   ]
  },
  {
   "cell_type": "code",
   "execution_count": null,
   "id": "95d903cc",
   "metadata": {},
   "outputs": [],
   "source": [
    "@which eigvals(Hermitian(Ah))"
   ]
  },
  {
   "cell_type": "markdown",
   "id": "55b7829d",
   "metadata": {},
   "source": [
    "Let's verify that we get the same eigenvalues no matter which path we take."
   ]
  },
  {
   "cell_type": "code",
   "execution_count": null,
   "id": "cff71508",
   "metadata": {},
   "outputs": [],
   "source": [
    "eigvals(Ah)"
   ]
  },
  {
   "cell_type": "code",
   "execution_count": null,
   "id": "050de728",
   "metadata": {},
   "outputs": [],
   "source": [
    "eigvals(Hermitian(Ah))"
   ]
  },
  {
   "cell_type": "code",
   "execution_count": null,
   "id": "dbb4eb4a",
   "metadata": {},
   "outputs": [],
   "source": [
    "A = rand(ComplexF64, 64, 64)"
   ]
  },
  {
   "cell_type": "code",
   "execution_count": null,
   "id": "72a89db5",
   "metadata": {},
   "outputs": [],
   "source": [
    "Ah = A + A'"
   ]
  },
  {
   "cell_type": "code",
   "execution_count": null,
   "id": "c0dfeffb",
   "metadata": {},
   "outputs": [],
   "source": [
    "@timev eigvals(Ah);"
   ]
  },
  {
   "cell_type": "code",
   "execution_count": null,
   "id": "b7c44fe7",
   "metadata": {},
   "outputs": [],
   "source": [
    "@timev eigvals(Hermitian(Ah));"
   ]
  }
 ],
 "metadata": {
  "kernelspec": {
   "display_name": "Julia 1.10.4",
   "language": "julia",
   "name": "julia-1.10"
  },
  "language_info": {
   "file_extension": ".jl",
   "mimetype": "application/julia",
   "name": "julia",
   "version": "1.10.4"
  }
 },
 "nbformat": 4,
 "nbformat_minor": 5
}
